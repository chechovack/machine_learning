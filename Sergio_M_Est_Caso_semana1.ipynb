{
  "cells": [
    {
      "cell_type": "markdown",
      "metadata": {
        "id": "8PM7MAU8ibk9"
      },
      "source": [
        "# **¿Cómo construir un modelo de predicción para los incumplimientos de préstamos en Lending Club?**"
      ]
    },
    {
      "cell_type": "markdown",
      "metadata": {
        "tags": [
          "2_min"
        ],
        "id": "EyytXThOibk-"
      },
      "source": [
        "## Objetivos\n",
        "\n",
        "El objetivo de este caso es implementar clasificadores como regresión logística, SVM, árboles de decisión, random forest y algoritmos de boosting como LightGBM, y determinar cuál de ellos es el mejor para el problema de predicción de impagos de préstamos de Lending Club. Se utilizará validación cruzada y métricas de desempeño cuantitativas para evaluar y comparar los modelos.\n",
        "\n",
        "Durante el estudio de caso, se comenzará creando un clasificador base con regresión logística. Posteriormente, se implementarán los demás algoritmos y se validarán los resultados para seleccionar el mejor modelo basándose en su rendimiento cuantitativo. Poder determinar y justificar la elección del mejor modelo es un paso fundamental en el análisis de datos.\n",
        "\n"
      ]
    },
    {
      "cell_type": "markdown",
      "metadata": {
        "tags": [
          "5_min"
        ],
        "id": "jbTf0GgIibk_"
      },
      "source": [
        "## Introducción"
      ]
    },
    {
      "cell_type": "markdown",
      "metadata": {
        "id": "bzqZQxGbibk_"
      },
      "source": [
        "\n",
        "**Contexto del Negocio.** El objetivo es construir un modelo de clasificación que determine si un usuario incumplirá con el pago de su préstamo, ya que predecir la probabilidad de incumplimiento es clave para el negocio de préstamos P2P. La predicción precisa de estos incumplimientos es esencial para mejorar la gestión de riesgos y el proceso de otorgamiento de créditos.\n",
        "\n",
        "**Contexto Analítico.** La tarea consiste en implementar y comparar diferentes algoritmos de clasificación, como regresión logística, SVM, árboles de decisión, random forest y LightGBM, con el fin de seleccionar el mejor modelo mediante validación cruzada. Este proceso garantizará que el algoritmo final sea robusto y capaz de generalizar para datos futuros.\n",
        "\n"
      ]
    },
    {
      "cell_type": "markdown",
      "metadata": {
        "tags": [
          "20_min"
        ],
        "id": "FsJkC6Mjibk_"
      },
      "source": [
        "\n",
        "## Evaluando nuestro modelo de regresión logística"
      ]
    },
    {
      "cell_type": "code",
      "execution_count": 56,
      "metadata": {
        "id": "gq7dyUuUibk_"
      },
      "outputs": [],
      "source": [
        "import pandas as pd\n",
        "import pydotplus\n",
        "import numpy  as np\n",
        "import matplotlib.pyplot as plt\n",
        "import seaborn as sns\n",
        "import statsmodels.api as sm\n",
        "\n",
        "from io import StringIO\n",
        "from IPython.display import Image, SVG\n",
        "from graphviz import Source\n",
        "from matplotlib import cm\n",
        "from matplotlib.colors import ListedColormap, LinearSegmentedColormap\n",
        "from matplotlib.patches import Patch\n",
        "from scipy.stats import chi2_contingency, norm\n",
        "from sklearn.tree import export_graphviz\n",
        "from sklearn import tree\n",
        "from sklearn.tree import DecisionTreeClassifier\n",
        "from sklearn.ensemble import RandomForestClassifier\n",
        "from sklearn.metrics import roc_curve, auc, accuracy_score\n",
        "from sklearn.model_selection import StratifiedKFold, train_test_split\n",
        "from statsmodels.formula.api import ols\n",
        "from sympy import var, plot_implicit, Eq\n",
        "from sklearn.linear_model import LogisticRegression\n",
        "from sklearn.model_selection import train_test_split\n",
        "from sklearn.preprocessing import StandardScaler\n",
        "\n",
        "# ignore log(0) and divide by 0 warning\n",
        "np.seterr(divide='ignore');"
      ]
    },
    {
      "cell_type": "code",
      "source": [
        "from google.colab import drive\n",
        "drive.mount('/content/drive')"
      ],
      "metadata": {
        "id": "BX8nd9I1S_KS",
        "colab": {
          "base_uri": "https://localhost:8080/"
        },
        "outputId": "61793053-7094-493e-d653-cf6b66bfa5cd"
      },
      "execution_count": 57,
      "outputs": [
        {
          "output_type": "stream",
          "name": "stdout",
          "text": [
            "Drive already mounted at /content/drive; to attempt to forcibly remount, call drive.mount(\"/content/drive\", force_remount=True).\n"
          ]
        }
      ]
    },
    {
      "cell_type": "code",
      "execution_count": 117,
      "metadata": {
        "id": "Y8uifyiLiblA"
      },
      "outputs": [],
      "source": [
        "ubic = '/content/drive/MyDrive/Colab Notebooks//Lending_club_cleaned_2.xlsx'\n",
        "\n",
        "df = pd.read_excel(ubic)\n",
        "\n",
        "dtype = {'loan_status':'category', 'annual_inc':'float','verification_status':'category', 'emp_length':'category','home_ownership':'category', 'int_rate':'object','loan_amnt':'float', 'purpose':'category','term':'category', 'grade':'category'}\n",
        "\n",
        "#df['int_rate'] = df['int_rate'].str.rstrip('%').astype('float')"
      ]
    },
    {
      "cell_type": "code",
      "execution_count": 77,
      "metadata": {
        "id": "nGJhxofgiblA",
        "colab": {
          "base_uri": "https://localhost:8080/"
        },
        "outputId": "9a7d59d3-3d7e-4db2-f8e0-f71915171d02"
      },
      "outputs": [
        {
          "output_type": "stream",
          "name": "stdout",
          "text": [
            "['Verified' 'Source Verified' 'Not Verified']\n"
          ]
        }
      ],
      "source": [
        "#print(df.head())\n",
        "#df.dtypes\n",
        "#df.info()\n",
        "\n",
        "\n"
      ]
    },
    {
      "cell_type": "markdown",
      "source": [
        "\n",
        "### Ejercicio:\n",
        "\n",
        "Grafique los boxplots de las siguientes variables continuas: `loan_amnt`, `annual_inc` y `int_rate`, separadas por incumplidores y no incumplidores. Analice las distribuciones y observe si hay diferencias notables entre las dos clases. ¿Existen outliers en alguna de las variables? ¿Qué implicaciones pueden tener estas diferencias y outliers en el modelo de regresión logística que se va a entrenar? ¿Sería necesario realizar algún tipo de transformación o tratamiento de los datos antes de continuar con el análisis?\n",
        "\n"
      ],
      "metadata": {
        "id": "wScjT0oeyBwe"
      }
    },
    {
      "cell_type": "code",
      "source": [
        "# Numeric categorical features\n",
        "plt.figure(figsize=(24,20))\n",
        "varstolook = ['loan_amnt', 'annual_inc', 'int_rate']\n",
        "for i,feature in enumerate(varstolook):\n",
        "    plt.subplot(3,2,i+1)\n",
        "    pl2 = sns.boxplot(x=\"loan_status\", y = feature, data = df, palette=\"Blues\")\n",
        "    pl2.set_xticklabels(pl2.get_xticklabels(), rotation=40, ha=\"right\");\n",
        "    plt.title(\"Price distribution across: \" + feature, fontsize=20, verticalalignment='bottom');"
      ],
      "metadata": {
        "colab": {
          "base_uri": "https://localhost:8080/",
          "height": 1000
        },
        "id": "kYyKDTdwmaRa",
        "outputId": "726ac465-a1ae-462f-82fd-5bdd51886689"
      },
      "execution_count": 118,
      "outputs": [
        {
          "output_type": "stream",
          "name": "stderr",
          "text": [
            "<ipython-input-118-c78669207b10>:6: FutureWarning: \n",
            "\n",
            "Passing `palette` without assigning `hue` is deprecated and will be removed in v0.14.0. Assign the `x` variable to `hue` and set `legend=False` for the same effect.\n",
            "\n",
            "  pl2 = sns.boxplot(x=\"loan_status\", y = feature, data = df, palette=\"Blues\")\n",
            "<ipython-input-118-c78669207b10>:7: UserWarning: FixedFormatter should only be used together with FixedLocator\n",
            "  pl2.set_xticklabels(pl2.get_xticklabels(), rotation=40, ha=\"right\");\n",
            "<ipython-input-118-c78669207b10>:6: FutureWarning: \n",
            "\n",
            "Passing `palette` without assigning `hue` is deprecated and will be removed in v0.14.0. Assign the `x` variable to `hue` and set `legend=False` for the same effect.\n",
            "\n",
            "  pl2 = sns.boxplot(x=\"loan_status\", y = feature, data = df, palette=\"Blues\")\n",
            "<ipython-input-118-c78669207b10>:7: UserWarning: FixedFormatter should only be used together with FixedLocator\n",
            "  pl2.set_xticklabels(pl2.get_xticklabels(), rotation=40, ha=\"right\");\n",
            "<ipython-input-118-c78669207b10>:6: FutureWarning: \n",
            "\n",
            "Passing `palette` without assigning `hue` is deprecated and will be removed in v0.14.0. Assign the `x` variable to `hue` and set `legend=False` for the same effect.\n",
            "\n",
            "  pl2 = sns.boxplot(x=\"loan_status\", y = feature, data = df, palette=\"Blues\")\n",
            "<ipython-input-118-c78669207b10>:7: UserWarning: FixedFormatter should only be used together with FixedLocator\n",
            "  pl2.set_xticklabels(pl2.get_xticklabels(), rotation=40, ha=\"right\");\n"
          ]
        },
        {
          "output_type": "display_data",
          "data": {
            "text/plain": [
              "<Figure size 2400x2000 with 3 Axes>"
            ],
            "image/png": "[encoded data removed]"
          },
          "metadata": {}
        }
      ]
    },
    {
      "cell_type": "code",
      "source": [
        "#CODIFICACIÓN DE VARIABLES CATEGÓRICAS\n",
        "\n",
        "# Codificación *one-hot* para variables categóricas\n",
        "df2 = df[['loan_status','loan_amnt','int_rate','annual_inc','home_ownership','grade','verification_status','emp_length','term']]\n",
        "\n",
        "df_encoded = pd.get_dummies(df2,columns=['verification_status', 'home_ownership' , 'grade' ,'emp_length', 'term'])\n",
        "# Codificación binaria para variables binarias\n",
        "df_encoded.replace({'loan_status': {\"Charged Off\": 0, \"Fully Paid\": 1},\n",
        "             }, inplace=True)\n",
        "\n",
        "# Paso 3: Agregar la columna 'loan_status' al DataFrame codificado\n",
        "#df_encoded['loan_status'] = df2['loan_status']\n",
        "\n",
        "#df['loan_status'].cat.code\n",
        "\n",
        "\n",
        "\n"
      ],
      "metadata": {
        "id": "_Is-uEFCvEq6"
      },
      "execution_count": 139,
      "outputs": []
    },
    {
      "cell_type": "code",
      "source": [
        "#NORMALIZACIÓN DE VARIABLES CONTINUAS\n",
        "\n",
        "# Parametros y etiquetas iniciales de nuestra regresión lineal\n",
        "X = df_encoded.drop(['loan_status'],axis=1)\n",
        "y = df_encoded[['loan_status']].values.ravel()\n",
        "\n",
        "training_mean = X.mean()\n",
        "training_std = X.std()\n",
        "\n",
        "X_norm = (X - training_mean) / training_std\n",
        "df_log = X_norm\n",
        "#X_vali = (X_vali - training_mean) / training_std\n",
        "#X_test = (X_test - training_mean) / training_std\n",
        "df_log.head()"
      ],
      "metadata": {
        "colab": {
          "base_uri": "https://localhost:8080/",
          "height": 273
        },
        "id": "UQz3gKf1vu1K",
        "outputId": "3eabc2af-7642-4f98-9e76-19bfe7b825b7"
      },
      "execution_count": 160,
      "outputs": [
        {
          "output_type": "execute_result",
          "data": {
            "text/plain": [
              "   loan_amnt  int_rate  annual_inc  verification_status_Not Verified  \\\n",
              "0  -0.843862 -0.378954   -0.710290                         -0.861962   \n",
              "1  -1.178519  0.863143   -0.616866                         -0.861962   \n",
              "2  -1.191906  1.048651   -0.893213                          1.160114   \n",
              "3  -0.174546  0.384586   -0.317912                         -0.861962   \n",
              "4  -1.111588  0.169505    0.161661                         -0.861962   \n",
              "\n",
              "   verification_status_Source Verified  verification_status_Verified  \\\n",
              "0                            -0.583021                      1.457598   \n",
              "1                             1.715159                     -0.686042   \n",
              "2                            -0.583021                     -0.686042   \n",
              "3                             1.715159                     -0.686042   \n",
              "4                             1.715159                     -0.686042   \n",
              "\n",
              "   home_ownership_MORTGAGE  home_ownership_OTHER  home_ownership_OWN  \\\n",
              "0                -0.896888             -0.050382           -0.281663   \n",
              "1                -0.896888             -0.050382           -0.281663   \n",
              "2                -0.896888             -0.050382           -0.281663   \n",
              "3                -0.896888             -0.050382           -0.281663   \n",
              "4                -0.896888             -0.050382           -0.281663   \n",
              "\n",
              "   home_ownership_RENT  ...  emp_length_3 years  emp_length_4 years  \\\n",
              "0             1.044673  ...           -0.344111           -0.312521   \n",
              "1             1.044673  ...           -0.344111           -0.312521   \n",
              "2             1.044673  ...           -0.344111           -0.312521   \n",
              "3             1.044673  ...           -0.344111           -0.312521   \n",
              "4             1.044673  ...           -0.344111           -0.312521   \n",
              "\n",
              "   emp_length_5 years  emp_length_6 years  emp_length_7 years  \\\n",
              "0           -0.304535           -0.247316           -0.219232   \n",
              "1           -0.304535           -0.247316           -0.219232   \n",
              "2           -0.304535           -0.247316           -0.219232   \n",
              "3           -0.304535           -0.247316           -0.219232   \n",
              "4           -0.304535           -0.247316           -0.219232   \n",
              "\n",
              "   emp_length_8 years  emp_length_9 years  emp_length_< 1 year  \\\n",
              "0           -0.199742            -0.18336            -0.366708   \n",
              "1           -0.199742            -0.18336             2.726893   \n",
              "2           -0.199742            -0.18336            -0.366708   \n",
              "3           -0.199742            -0.18336            -0.366708   \n",
              "4           -0.199742            -0.18336            -0.366708   \n",
              "\n",
              "   term_36 months  term_60 months  \n",
              "0        0.606986       -0.606986  \n",
              "1       -1.647442        1.647442  \n",
              "2        0.606986       -0.606986  \n",
              "3        0.606986       -0.606986  \n",
              "4       -1.647442        1.647442  \n",
              "\n",
              "[5 rows x 30 columns]"
            ],
            "text/html": [
              "\n",
              "  <div id=\"df-58648cf6-575c-4d7a-a7e3-225302c4a01d\" class=\"colab-df-container\">\n",
              "    <div>\n",
              "<style scoped>\n",
              "    .dataframe tbody tr th:only-of-type {\n",
              "        vertical-align: middle;\n",
              "    }\n",
              "\n",
              "    .dataframe tbody tr th {\n",
              "        vertical-align: top;\n",
              "    }\n",
              "\n",
              "    .dataframe thead th {\n",
              "        text-align: right;\n",
              "    }\n",
              "</style>\n",
              "<table border=\"1\" class=\"dataframe\">\n",
              "  <thead>\n",
              "    <tr style=\"text-align: right;\">\n",
              "      <th></th>\n",
              "      <th>loan_amnt</th>\n",
              "      <th>int_rate</th>\n",
              "      <th>annual_inc</th>\n",
              "      <th>verification_status_Not Verified</th>\n",
              "      <th>verification_status_Source Verified</th>\n",
              "      <th>verification_status_Verified</th>\n",
              "      <th>home_ownership_MORTGAGE</th>\n",
              "      <th>home_ownership_OTHER</th>\n",
              "      <th>home_ownership_OWN</th>\n",
              "      <th>home_ownership_RENT</th>\n",
              "      <th>...</th>\n",
              "      <th>emp_length_3 years</th>\n",
              "      <th>emp_length_4 years</th>\n",
              "      <th>emp_length_5 years</th>\n",
              "      <th>emp_length_6 years</th>\n",
              "      <th>emp_length_7 years</th>\n",
              "      <th>emp_length_8 years</th>\n",
              "      <th>emp_length_9 years</th>\n",
              "      <th>emp_length_&lt; 1 year</th>\n",
              "      <th>term_36 months</th>\n",
              "      <th>term_60 months</th>\n",
              "    </tr>\n",
              "  </thead>\n",
              "  <tbody>\n",
              "    <tr>\n",
              "      <th>0</th>\n",
              "      <td>-0.843862</td>\n",
              "      <td>-0.378954</td>\n",
              "      <td>-0.710290</td>\n",
              "      <td>-0.861962</td>\n",
              "      <td>-0.583021</td>\n",
              "      <td>1.457598</td>\n",
              "      <td>-0.896888</td>\n",
              "      <td>-0.050382</td>\n",
              "      <td>-0.281663</td>\n",
              "      <td>1.044673</td>\n",
              "      <td>...</td>\n",
              "      <td>-0.344111</td>\n",
              "      <td>-0.312521</td>\n",
              "      <td>-0.304535</td>\n",
              "      <td>-0.247316</td>\n",
              "      <td>-0.219232</td>\n",
              "      <td>-0.199742</td>\n",
              "      <td>-0.18336</td>\n",
              "      <td>-0.366708</td>\n",
              "      <td>0.606986</td>\n",
              "      <td>-0.606986</td>\n",
              "    </tr>\n",
              "    <tr>\n",
              "      <th>1</th>\n",
              "      <td>-1.178519</td>\n",
              "      <td>0.863143</td>\n",
              "      <td>-0.616866</td>\n",
              "      <td>-0.861962</td>\n",
              "      <td>1.715159</td>\n",
              "      <td>-0.686042</td>\n",
              "      <td>-0.896888</td>\n",
              "      <td>-0.050382</td>\n",
              "      <td>-0.281663</td>\n",
              "      <td>1.044673</td>\n",
              "      <td>...</td>\n",
              "      <td>-0.344111</td>\n",
              "      <td>-0.312521</td>\n",
              "      <td>-0.304535</td>\n",
              "      <td>-0.247316</td>\n",
              "      <td>-0.219232</td>\n",
              "      <td>-0.199742</td>\n",
              "      <td>-0.18336</td>\n",
              "      <td>2.726893</td>\n",
              "      <td>-1.647442</td>\n",
              "      <td>1.647442</td>\n",
              "    </tr>\n",
              "    <tr>\n",
              "      <th>2</th>\n",
              "      <td>-1.191906</td>\n",
              "      <td>1.048651</td>\n",
              "      <td>-0.893213</td>\n",
              "      <td>1.160114</td>\n",
              "      <td>-0.583021</td>\n",
              "      <td>-0.686042</td>\n",
              "      <td>-0.896888</td>\n",
              "      <td>-0.050382</td>\n",
              "      <td>-0.281663</td>\n",
              "      <td>1.044673</td>\n",
              "      <td>...</td>\n",
              "      <td>-0.344111</td>\n",
              "      <td>-0.312521</td>\n",
              "      <td>-0.304535</td>\n",
              "      <td>-0.247316</td>\n",
              "      <td>-0.219232</td>\n",
              "      <td>-0.199742</td>\n",
              "      <td>-0.18336</td>\n",
              "      <td>-0.366708</td>\n",
              "      <td>0.606986</td>\n",
              "      <td>-0.606986</td>\n",
              "    </tr>\n",
              "    <tr>\n",
              "      <th>3</th>\n",
              "      <td>-0.174546</td>\n",
              "      <td>0.384586</td>\n",
              "      <td>-0.317912</td>\n",
              "      <td>-0.861962</td>\n",
              "      <td>1.715159</td>\n",
              "      <td>-0.686042</td>\n",
              "      <td>-0.896888</td>\n",
              "      <td>-0.050382</td>\n",
              "      <td>-0.281663</td>\n",
              "      <td>1.044673</td>\n",
              "      <td>...</td>\n",
              "      <td>-0.344111</td>\n",
              "      <td>-0.312521</td>\n",
              "      <td>-0.304535</td>\n",
              "      <td>-0.247316</td>\n",
              "      <td>-0.219232</td>\n",
              "      <td>-0.199742</td>\n",
              "      <td>-0.18336</td>\n",
              "      <td>-0.366708</td>\n",
              "      <td>0.606986</td>\n",
              "      <td>-0.606986</td>\n",
              "    </tr>\n",
              "    <tr>\n",
              "      <th>4</th>\n",
              "      <td>-1.111588</td>\n",
              "      <td>0.169505</td>\n",
              "      <td>0.161661</td>\n",
              "      <td>-0.861962</td>\n",
              "      <td>1.715159</td>\n",
              "      <td>-0.686042</td>\n",
              "      <td>-0.896888</td>\n",
              "      <td>-0.050382</td>\n",
              "      <td>-0.281663</td>\n",
              "      <td>1.044673</td>\n",
              "      <td>...</td>\n",
              "      <td>-0.344111</td>\n",
              "      <td>-0.312521</td>\n",
              "      <td>-0.304535</td>\n",
              "      <td>-0.247316</td>\n",
              "      <td>-0.219232</td>\n",
              "      <td>-0.199742</td>\n",
              "      <td>-0.18336</td>\n",
              "      <td>-0.366708</td>\n",
              "      <td>-1.647442</td>\n",
              "      <td>1.647442</td>\n",
              "    </tr>\n",
              "  </tbody>\n",
              "</table>\n",
              "<p>5 rows × 30 columns</p>\n",
              "</div>\n",
              "    <div class=\"colab-df-buttons\">\n",
              "\n",
              "  <div class=\"colab-df-container\">\n",
              "    <button class=\"colab-df-convert\" onclick=\"convertToInteractive('df-58648cf6-575c-4d7a-a7e3-225302c4a01d')\"\n",
              "            title=\"Convert this dataframe to an interactive table.\"\n",
              "            style=\"display:none;\">\n",
              "\n",
              "  <svg xmlns=\"http://www.w3.org/2000/svg\" height=\"24px\" viewBox=\"0 -960 960 960\">\n",
              "    <path d=\"M120-120v-720h720v720H120Zm60-500h600v-160H180v160Zm220 220h160v-160H400v160Zm0 220h160v-160H400v160ZM180-400h160v-160H180v160Zm440 0h160v-160H620v160ZM180-180h160v-160H180v160Zm440 0h160v-160H620v160Z\"/>\n",
              "  </svg>\n",
              "    </button>\n",
              "\n",
              "  <style>\n",
              "    .colab-df-container {\n",
              "      display:flex;\n",
              "      gap: 12px;\n",
              "    }\n",
              "\n",
              "    .colab-df-convert {\n",
              "      background-color: #E8F0FE;\n",
              "      border: none;\n",
              "      border-radius: 50%;\n",
              "      cursor: pointer;\n",
              "      display: none;\n",
              "      fill: #1967D2;\n",
              "      height: 32px;\n",
              "      padding: 0 0 0 0;\n",
              "      width: 32px;\n",
              "    }\n",
              "\n",
              "    .colab-df-convert:hover {\n",
              "      background-color: #E2EBFA;\n",
              "      box-shadow: 0px 1px 2px rgba(60, 64, 67, 0.3), 0px 1px 3px 1px rgba(60, 64, 67, 0.15);\n",
              "      fill: #174EA6;\n",
              "    }\n",
              "\n",
              "    .colab-df-buttons div {\n",
              "      margin-bottom: 4px;\n",
              "    }\n",
              "\n",
              "    [theme=dark] .colab-df-convert {\n",
              "      background-color: #3B4455;\n",
              "      fill: #D2E3FC;\n",
              "    }\n",
              "\n",
              "    [theme=dark] .colab-df-convert:hover {\n",
              "      background-color: #434B5C;\n",
              "      box-shadow: 0px 1px 3px 1px rgba(0, 0, 0, 0.15);\n",
              "      filter: drop-shadow(0px 1px 2px rgba(0, 0, 0, 0.3));\n",
              "      fill: #FFFFFF;\n",
              "    }\n",
              "  </style>\n",
              "\n",
              "    <script>\n",
              "      const buttonEl =\n",
              "        document.querySelector('#df-58648cf6-575c-4d7a-a7e3-225302c4a01d button.colab-df-convert');\n",
              "      buttonEl.style.display =\n",
              "        google.colab.kernel.accessAllowed ? 'block' : 'none';\n",
              "\n",
              "      async function convertToInteractive(key) {\n",
              "        const element = document.querySelector('#df-58648cf6-575c-4d7a-a7e3-225302c4a01d');\n",
              "        const dataTable =\n",
              "          await google.colab.kernel.invokeFunction('convertToInteractive',\n",
              "                                                    [key], {});\n",
              "        if (!dataTable) return;\n",
              "\n",
              "        const docLinkHtml = 'Like what you see? Visit the ' +\n",
              "          '<a target=\"_blank\" href=https://colab.research.google.com/notebooks/data_table.ipynb>data table notebook</a>'\n",
              "          + ' to learn more about interactive tables.';\n",
              "        element.innerHTML = '';\n",
              "        dataTable['output_type'] = 'display_data';\n",
              "        await google.colab.output.renderOutput(dataTable, element);\n",
              "        const docLink = document.createElement('div');\n",
              "        docLink.innerHTML = docLinkHtml;\n",
              "        element.appendChild(docLink);\n",
              "      }\n",
              "    </script>\n",
              "  </div>\n",
              "\n",
              "\n",
              "<div id=\"df-342d9098-b72c-489b-a680-4fefe6799e71\">\n",
              "  <button class=\"colab-df-quickchart\" onclick=\"quickchart('df-342d9098-b72c-489b-a680-4fefe6799e71')\"\n",
              "            title=\"Suggest charts\"\n",
              "            style=\"display:none;\">\n",
              "\n",
              "<svg xmlns=\"http://www.w3.org/2000/svg\" height=\"24px\"viewBox=\"0 0 24 24\"\n",
              "     width=\"24px\">\n",
              "    <g>\n",
              "        <path d=\"M19 3H5c-1.1 0-2 .9-2 2v14c0 1.1.9 2 2 2h14c1.1 0 2-.9 2-2V5c0-1.1-.9-2-2-2zM9 17H7v-7h2v7zm4 0h-2V7h2v10zm4 0h-2v-4h2v4z\"/>\n",
              "    </g>\n",
              "</svg>\n",
              "  </button>\n",
              "\n",
              "<style>\n",
              "  .colab-df-quickchart {\n",
              "      --bg-color: #E8F0FE;\n",
              "      --fill-color: #1967D2;\n",
              "      --hover-bg-color: #E2EBFA;\n",
              "      --hover-fill-color: #174EA6;\n",
              "      --disabled-fill-color: #AAA;\n",
              "      --disabled-bg-color: #DDD;\n",
              "  }\n",
              "\n",
              "  [theme=dark] .colab-df-quickchart {\n",
              "      --bg-color: #3B4455;\n",
              "      --fill-color: #D2E3FC;\n",
              "      --hover-bg-color: #434B5C;\n",
              "      --hover-fill-color: #FFFFFF;\n",
              "      --disabled-bg-color: #3B4455;\n",
              "      --disabled-fill-color: #666;\n",
              "  }\n",
              "\n",
              "  .colab-df-quickchart {\n",
              "    background-color: var(--bg-color);\n",
              "    border: none;\n",
              "    border-radius: 50%;\n",
              "    cursor: pointer;\n",
              "    display: none;\n",
              "    fill: var(--fill-color);\n",
              "    height: 32px;\n",
              "    padding: 0;\n",
              "    width: 32px;\n",
              "  }\n",
              "\n",
              "  .colab-df-quickchart:hover {\n",
              "    background-color: var(--hover-bg-color);\n",
              "    box-shadow: 0 1px 2px rgba(60, 64, 67, 0.3), 0 1px 3px 1px rgba(60, 64, 67, 0.15);\n",
              "    fill: var(--button-hover-fill-color);\n",
              "  }\n",
              "\n",
              "  .colab-df-quickchart-complete:disabled,\n",
              "  .colab-df-quickchart-complete:disabled:hover {\n",
              "    background-color: var(--disabled-bg-color);\n",
              "    fill: var(--disabled-fill-color);\n",
              "    box-shadow: none;\n",
              "  }\n",
              "\n",
              "  .colab-df-spinner {\n",
              "    border: 2px solid var(--fill-color);\n",
              "    border-color: transparent;\n",
              "    border-bottom-color: var(--fill-color);\n",
              "    animation:\n",
              "      spin 1s steps(1) infinite;\n",
              "  }\n",
              "\n",
              "  @keyframes spin {\n",
              "    0% {\n",
              "      border-color: transparent;\n",
              "      border-bottom-color: var(--fill-color);\n",
              "      border-left-color: var(--fill-color);\n",
              "    }\n",
              "    20% {\n",
              "      border-color: transparent;\n",
              "      border-left-color: var(--fill-color);\n",
              "      border-top-color: var(--fill-color);\n",
              "    }\n",
              "    30% {\n",
              "      border-color: transparent;\n",
              "      border-left-color: var(--fill-color);\n",
              "      border-top-color: var(--fill-color);\n",
              "      border-right-color: var(--fill-color);\n",
              "    }\n",
              "    40% {\n",
              "      border-color: transparent;\n",
              "      border-right-color: var(--fill-color);\n",
              "      border-top-color: var(--fill-color);\n",
              "    }\n",
              "    60% {\n",
              "      border-color: transparent;\n",
              "      border-right-color: var(--fill-color);\n",
              "    }\n",
              "    80% {\n",
              "      border-color: transparent;\n",
              "      border-right-color: var(--fill-color);\n",
              "      border-bottom-color: var(--fill-color);\n",
              "    }\n",
              "    90% {\n",
              "      border-color: transparent;\n",
              "      border-bottom-color: var(--fill-color);\n",
              "    }\n",
              "  }\n",
              "</style>\n",
              "\n",
              "  <script>\n",
              "    async function quickchart(key) {\n",
              "      const quickchartButtonEl =\n",
              "        document.querySelector('#' + key + ' button');\n",
              "      quickchartButtonEl.disabled = true;  // To prevent multiple clicks.\n",
              "      quickchartButtonEl.classList.add('colab-df-spinner');\n",
              "      try {\n",
              "        const charts = await google.colab.kernel.invokeFunction(\n",
              "            'suggestCharts', [key], {});\n",
              "      } catch (error) {\n",
              "        console.error('Error during call to suggestCharts:', error);\n",
              "      }\n",
              "      quickchartButtonEl.classList.remove('colab-df-spinner');\n",
              "      quickchartButtonEl.classList.add('colab-df-quickchart-complete');\n",
              "    }\n",
              "    (() => {\n",
              "      let quickchartButtonEl =\n",
              "        document.querySelector('#df-342d9098-b72c-489b-a680-4fefe6799e71 button');\n",
              "      quickchartButtonEl.style.display =\n",
              "        google.colab.kernel.accessAllowed ? 'block' : 'none';\n",
              "    })();\n",
              "  </script>\n",
              "</div>\n",
              "\n",
              "    </div>\n",
              "  </div>\n"
            ],
            "application/vnd.google.colaboratory.intrinsic+json": {
              "type": "dataframe",
              "variable_name": "df_log"
            }
          },
          "metadata": {},
          "execution_count": 160
        }
      ]
    },
    {
      "cell_type": "code",
      "source": [
        "X_train, X_test, y_train, y_test = train_test_split(df_log, y, test_size=0.2)\n",
        "\n",
        "#Ahora vamos a entrenar nuestro conjunto de datos\n",
        "#creacion del modelo\n",
        "log_reg = LogisticRegression()\n",
        "#entrenamiento del modelo\n",
        "lr_model=log_reg.fit(X_train, y_train)"
      ],
      "metadata": {
        "id": "kajy2Jho68oR"
      },
      "execution_count": 164,
      "outputs": []
    },
    {
      "cell_type": "code",
      "source": [
        "lr_model.summary"
      ],
      "metadata": {
        "colab": {
          "base_uri": "https://localhost:8080/",
          "height": 141
        },
        "id": "-AiKv518-RkX",
        "outputId": "e71c2722-e642-4eb2-c418-ad3826d4865d"
      },
      "execution_count": 168,
      "outputs": [
        {
          "output_type": "error",
          "ename": "AttributeError",
          "evalue": "'LogisticRegression' object has no attribute 'summary'",
          "traceback": [
            "\u001b[0;31m---------------------------------------------------------------------------\u001b[0m",
            "\u001b[0;31mAttributeError\u001b[0m                            Traceback (most recent call last)",
            "\u001b[0;32m<ipython-input-168-ed94f817c301>\u001b[0m in \u001b[0;36m<cell line: 1>\u001b[0;34m()\u001b[0m\n\u001b[0;32m----> 1\u001b[0;31m \u001b[0mlr_model\u001b[0m\u001b[0;34m.\u001b[0m\u001b[0msummary\u001b[0m\u001b[0;34m\u001b[0m\u001b[0;34m\u001b[0m\u001b[0m\n\u001b[0m",
            "\u001b[0;31mAttributeError\u001b[0m: 'LogisticRegression' object has no attribute 'summary'"
          ]
        }
      ]
    },
    {
      "cell_type": "code",
      "source": [
        "from sklearn.linear_model import LinearRegression\n",
        "from sklearn.metrics import mean_squared_error, r2_score\n",
        "\n",
        "# Crear el modelo de regresión lineal\n",
        "model_linear = LogisticRegression()\n",
        "\n",
        "# Ajustar el modelo a los datos de entrenamiento\n",
        "model_linear.fit(X_train, y_train)\n",
        "\n",
        "# Hacer predicciones en el conjunto de entrenamiento\n",
        "y_train_pred = model_linear.predict(X_train)\n",
        "\n",
        "# Mostrar los coeficientes y el intercepto del modelo\n",
        "print(f\"Coeficientes: {model_linear.coef_}\")\n",
        "print(f\"Intercepto: {model_linear.intercept_}\")\n",
        "\n",
        "# Evaluar el rendimiento del modelo\n",
        "mse = mean_squared_error(y_train, y_train_pred)\n",
        "r2 = r2_score(y_train, y_train_pred)\n",
        "\n",
        "print(f\"Mean Squared Error: {mse}\")\n",
        "print(f\"R^2: {r2}\")"
      ],
      "metadata": {
        "colab": {
          "base_uri": "https://localhost:8080/"
        },
        "id": "eAsvNKrWGzzH",
        "outputId": "fe6a54a7-decc-4f06-f494-48562b9d6896"
      },
      "execution_count": 162,
      "outputs": [
        {
          "output_type": "stream",
          "name": "stdout",
          "text": [
            "Coeficientes: [[-0.01471212 -0.39101402  0.39131239  0.00302222 -0.00130546 -0.00198623\n",
            "   0.0179501  -0.0405319  -0.00376983 -0.01181421  0.11230693 -0.0072776\n",
            "  -0.04586809 -0.05232291 -0.01974651 -0.02250323 -0.00200436 -0.00152058\n",
            "  -0.05492602  0.02558088  0.02430189  0.0107953   0.00343293  0.02251782\n",
            "  -0.01112136 -0.0121146   0.01354884  0.0028226   0.09743266 -0.09743266]]\n",
            "Intercepto: [1.96400387]\n",
            "Mean Squared Error: 0.1418098436894458\n",
            "R^2: -0.16524291574154204\n"
          ]
        }
      ]
    },
    {
      "cell_type": "code",
      "source": [
        "from sklearn.model_selection import StratifiedKFold\n",
        "from sklearn.linear_model import LogisticRegression\n",
        "import numpy as np\n",
        "\n",
        "# Asegúrate de que df_log y y estén definidos\n",
        "X = df_log  # Variables normalizadas\n",
        "y = df_encoded['loan_status']  # Variable objetivo\n",
        "\n",
        "# Crear los pliegues estratificados\n",
        "kfold = StratifiedKFold(n_splits=10)\n",
        "scores = []\n",
        "\n",
        "# Definir el modelo\n",
        "log_reg = LogisticRegression()\n",
        "\n",
        "# Validación cruzada\n",
        "for k, (train_index, test_index) in enumerate(kfold.split(X, y)):\n",
        "    # Dividir los datos en entrenamiento y prueba para el pliegue actual\n",
        "    X_train_fold, X_test_fold = X.iloc[train_index], X.iloc[test_index]\n",
        "    y_train_fold, y_test_fold = y.iloc[train_index], y.iloc[test_index]\n",
        "\n",
        "    # Entrenar el modelo en los datos de entrenamiento del pliegue\n",
        "    log_reg.fit(X_train_fold, y_train_fold)\n",
        "\n",
        "    # Evaluar el modelo en los datos de prueba del pliegue\n",
        "    score = log_reg.score(X_test_fold, y_test_fold)\n",
        "\n",
        "    # Guardar el score\n",
        "    scores.append(score)\n",
        "\n",
        "    # Imprimir el rendimiento por pliegue\n",
        "    print('Fold: %2d, Class dist.: %s, Acc: %.3f' % (k+1, np.bincount(y_train_fold), score))\n",
        "\n",
        "# Calcular la media y la desviación estándar después de los pliegues\n",
        "mean = np.mean(scores)\n",
        "std = np.std(scores)\n",
        "\n",
        "# Imprimir el resultado final de la validación cruzada\n",
        "print('CV accuracy: %.3f +/- %.3f' % (mean, std))\n"
      ],
      "metadata": {
        "colab": {
          "base_uri": "https://localhost:8080/"
        },
        "id": "bKnEpvsyJEWX",
        "outputId": "adbd994b-096e-4fe8-f813-1b588ff9cc3b"
      },
      "execution_count": 171,
      "outputs": [
        {
          "output_type": "stream",
          "name": "stdout",
          "text": [
            "Fold:  1, Class dist.: [ 4896 29938], Acc: 0.859\n",
            "Fold:  2, Class dist.: [ 4896 29938], Acc: 0.859\n",
            "Fold:  3, Class dist.: [ 4896 29938], Acc: 0.859\n",
            "Fold:  4, Class dist.: [ 4896 29938], Acc: 0.859\n",
            "Fold:  5, Class dist.: [ 4896 29938], Acc: 0.859\n",
            "Fold:  6, Class dist.: [ 4896 29939], Acc: 0.859\n",
            "Fold:  7, Class dist.: [ 4896 29939], Acc: 0.859\n",
            "Fold:  8, Class dist.: [ 4896 29939], Acc: 0.859\n",
            "Fold:  9, Class dist.: [ 4896 29939], Acc: 0.859\n",
            "Fold: 10, Class dist.: [ 4896 29939], Acc: 0.859\n",
            "CV accuracy: 0.859 +/- 0.000\n"
          ]
        }
      ]
    },
    {
      "cell_type": "markdown",
      "source": [
        "\n",
        "### Ejercicio: Implementación de un modelo de regresión logística\n",
        "\n",
        "\n",
        "\n",
        "\n",
        "**Instrucciones:**\n",
        "\n",
        "1. Utilizar los siguientes datos del conjunto de datos de préstamos:\n",
        "   - Monto del préstamo (`loan_amnt`)\n",
        "   - Tasa de interés (`int_rate`)\n",
        "   - Ingresos anuales (`annual_inc`)\n",
        "   - Estado de propiedad de la vivienda (`home_ownership`)\n",
        "   - Propósito del préstamo (`purpose`)\n",
        "   - Grado de crédito (`grade`)\n",
        "   - Estado de verificación (`verification_status`)\n",
        "   - Duración del empleo (`emp_length`)\n",
        "   - Plazo del préstamo (`term`)\n",
        "\n",
        "2. Escribir un código para normalizar las variables continuas (`loan_amnt`, `int_rate`, `annual_inc`) y transformar las variables categóricas utilizando `pd.get_dummies`.\n",
        "\n",
        "3. Crear un nuevo DataFrame llamado `df_log` que contenga todas las variables normalizadas y las codificaciones correspondientes.\n",
        "\n",
        "4. Ajustar un modelo de regresión logística utilizando `scikit-learn` para **todos** los datos, guarde su modelo entrenado con la variable `lr_model`.\n",
        "\n",
        "5. Crear una variable preditions la cual va a contener las **probabilidades** de los valores de entrada.\n",
        "\n",
        "**Agregar esta linea al final de su respuesta: # Guardar el modelo entrenado\n",
        "joblib.dump(rf_model, 'rf_model.pkl')**\n",
        "\n",
        "**Respuesta:**"
      ],
      "metadata": {
        "id": "wAUCcWqIZFsU"
      }
    },
    {
      "cell_type": "markdown",
      "metadata": {
        "id": "NuP7uXWLiblB"
      },
      "source": [
        "\n",
        "La serie `predictions` contiene las predicciones calculadas por nuestro modelo de regresión logística. En este caso, los valores más cercanos a uno corresponden a usuarios que probablemente no incumplirán con el pago de su préstamo. Para visualizar esto de manera más clara, hemos creado un diagrama de dispersión que representa a los usuarios según el monto del préstamo y sus ingresos anuales. Cada punto está coloreado de acuerdo con la serie `predictions`, donde los puntos más oscuros corresponden a aquellos que están por debajo de un umbral específico (y, por lo tanto, clasificados como incumplidores). Utilizaremos la función de actualización a continuación para observar cómo se comporta nuestro clasificador respecto al umbral dado. En un escenario ideal, el mejor clasificador colorearía los puntos a la izquierda de amarillo y los puntos a la derecha de azul."
      ]
    },
    {
      "cell_type": "code",
      "execution_count": 163,
      "metadata": {
        "id": "ZjL8KUUbiblB",
        "colab": {
          "base_uri": "https://localhost:8080/",
          "height": 211
        },
        "outputId": "9463fcfd-6d5a-4854-c466-2c6c4575f048"
      },
      "outputs": [
        {
          "output_type": "error",
          "ename": "NameError",
          "evalue": "name 'predictions' is not defined",
          "traceback": [
            "\u001b[0;31m---------------------------------------------------------------------------\u001b[0m",
            "\u001b[0;31mNameError\u001b[0m                                 Traceback (most recent call last)",
            "\u001b[0;32m<ipython-input-163-773a0651e3fa>\u001b[0m in \u001b[0;36m<cell line: 8>\u001b[0;34m()\u001b[0m\n\u001b[1;32m      6\u001b[0m \u001b[0mdf_log_plot\u001b[0m \u001b[0;34m=\u001b[0m \u001b[0mdf_log\u001b[0m\u001b[0;34m.\u001b[0m\u001b[0mcopy\u001b[0m\u001b[0;34m(\u001b[0m\u001b[0;34m)\u001b[0m\u001b[0;34m\u001b[0m\u001b[0;34m\u001b[0m\u001b[0m\n\u001b[1;32m      7\u001b[0m \u001b[0mdf_log_plot\u001b[0m\u001b[0;34m[\u001b[0m\u001b[0;34m'loan_status'\u001b[0m\u001b[0;34m]\u001b[0m \u001b[0;34m=\u001b[0m \u001b[0mdf\u001b[0m\u001b[0;34m[\u001b[0m\u001b[0;34m'loan_status'\u001b[0m\u001b[0;34m]\u001b[0m\u001b[0;34m\u001b[0m\u001b[0;34m\u001b[0m\u001b[0m\n\u001b[0;32m----> 8\u001b[0;31m \u001b[0mdf_log_plot\u001b[0m\u001b[0;34m[\u001b[0m\u001b[0;34m'logit_predict'\u001b[0m\u001b[0;34m]\u001b[0m \u001b[0;34m=\u001b[0m \u001b[0mpredictions\u001b[0m\u001b[0;34m\u001b[0m\u001b[0;34m\u001b[0m\u001b[0m\n\u001b[0m\u001b[1;32m      9\u001b[0m \u001b[0;34m\u001b[0m\u001b[0m\n\u001b[1;32m     10\u001b[0m \u001b[0mfig\u001b[0m\u001b[0;34m,\u001b[0m \u001b[0max\u001b[0m \u001b[0;34m=\u001b[0m \u001b[0mplt\u001b[0m\u001b[0;34m.\u001b[0m\u001b[0msubplots\u001b[0m\u001b[0;34m(\u001b[0m\u001b[0;36m1\u001b[0m\u001b[0;34m,\u001b[0m \u001b[0;36m2\u001b[0m\u001b[0;34m,\u001b[0m \u001b[0mfigsize\u001b[0m\u001b[0;34m=\u001b[0m\u001b[0;34m(\u001b[0m\u001b[0;36m10\u001b[0m\u001b[0;34m,\u001b[0m \u001b[0;36m4\u001b[0m\u001b[0;34m)\u001b[0m\u001b[0;34m)\u001b[0m\u001b[0;34m\u001b[0m\u001b[0;34m\u001b[0m\u001b[0m\n",
            "\u001b[0;31mNameError\u001b[0m: name 'predictions' is not defined"
          ]
        }
      ],
      "source": [
        "# El siguiente gráfico compara la clasificación Logit de usuarios que pagaron completamente vs. usuarios que incumplieron.\n",
        "# Los puntos más brillantes indican usuarios a los que se les daría más probabilidades de obtener el préstamo según este modelo con el umbral seleccionado.\n",
        "#%matplotlib notebook\n",
        "import matplotlib.colors as colors\n",
        "\n",
        "df_log_plot = df_log.copy()\n",
        "df_log_plot['loan_status'] = df['loan_status']\n",
        "df_log_plot['logit_predict'] = predictions\n",
        "\n",
        "fig, ax = plt.subplots(1, 2, figsize=(10, 4))\n",
        "\n",
        "# Usuarios que pagaron completamente\n",
        "dff2 = df_log_plot[df_log_plot['loan_status'] == 'Fully Paid']\n",
        "plot2 = ax[0].scatter(dff2['loan_amnt'], np.log(dff2['annual_inc']), c=dff2['logit_predict'], cmap='cividis')\n",
        "cbar2 = plt.colorbar(plot2, ax=ax[0])\n",
        "ax[0].set_ylabel('Log Ingresos Anuales')\n",
        "ax[0].set_xlabel('Monto del Préstamo')\n",
        "ax[0].set_title('Usuarios que Pagaron Completamente')\n",
        "\n",
        "# Usuarios que incumplieron\n",
        "dff1 = df_log_plot[df_log_plot['loan_status'] == 'Charged Off']\n",
        "plot1 = ax[1].scatter(dff1['loan_amnt'], np.log(dff1['annual_inc']), c=dff1['logit_predict'], cmap='cividis')\n",
        "cbar1 = plt.colorbar(plot1, ax=ax[1])\n",
        "cbar1.set_label('Probabilidad de Predicción Logit')\n",
        "ax[1].set_xlabel('Monto del Préstamo')\n",
        "ax[1].set_title('Usuarios que Incumplieron')\n",
        "\n",
        "def update(threshold):\n",
        "    plot1.set_norm(norm=colors.Normalize(vmin=threshold, vmax=1.))\n",
        "    plot2.set_norm(norm=colors.Normalize(vmin=threshold, vmax=1.))\n",
        "\n",
        "    TPR = df_log_plot[(df_log_plot['loan_status'] == 'Fully Paid') & (df_log_plot['logit_predict'] >= threshold)]['loan_status'].count() / df_log_plot[df_log_plot['loan_status'] == 'Fully Paid']['loan_status'].count()\n",
        "    TNR = df_log_plot[(df_log_plot['loan_status'] == 'Charged Off') & (df_log_plot['logit_predict'] <= threshold)]['loan_status'].count() / df_log_plot[df_log_plot['loan_status'] == 'Charged Off']['loan_status'].count()\n",
        "\n",
        "    fig.suptitle('Umbral={:.2f}, TPR={:.3f}, TNR={:.3f}'.format(threshold, TPR, TNR))\n",
        "    fig.canvas.draw_idle()\n",
        "\n",
        "# interact(update, threshold=(0,1,0.01));\n",
        "update(0.75)\n",
        "\n"
      ]
    },
    {
      "cell_type": "markdown",
      "metadata": {
        "id": "s6UEA_tViblC"
      },
      "source": [
        "## Ejercicio: Construcción de la curva ROC\n",
        "\n",
        "> Agregar bloque entrecomillado\n",
        "\n",
        "\n",
        "\n",
        "Usar las predicciones probabilísticas del modelo (`predict_proba`) para obtener la curva ROC y el AUC. Implementar `roc_curve` para calcular los puntos de la curva y graficarla, y utilizar `roc_auc_score` para obtener el área bajo la curva (AUC)."
      ]
    },
    {
      "cell_type": "markdown",
      "metadata": {
        "id": "m7q_sZLKiblC"
      },
      "source": [
        "Estos resultados parecen estar bien. Sin embargo, hemos utilizado todo nuestro conjunto de datos para crear el modelo. ¿Cómo sabemos si estamos sobreajustando el modelo?"
      ]
    },
    {
      "cell_type": "markdown",
      "metadata": {
        "tags": [
          "10_min"
        ],
        "id": "wsJGJGA1iblC"
      },
      "source": [
        "### Ejercicio:\n",
        "\n",
        "Genera la curva ROC de validación cruzada de 10 pliegues (el promedio de las 10 curvas ROC) y calcula el AUC promedio. Para ello, utiliza la función `cv_roc` proporcionada a continuación. ¿Cuáles son los valores de `tprs`, `aucs` y `mean_fpr` que se obtienen con esta función? Grafica la curva ROC de la validación cruzada, la curva ROC de los datos de entrenamiento y la línea de suposición aleatoria en un solo gráfico. ¿Tenía nuestro modelo anterior problemas de sobreajuste?"
      ]
    },
    {
      "cell_type": "markdown",
      "metadata": {
        "tags": [
          "ans_st"
        ],
        "id": "pYOAU75uiblC"
      },
      "source": [
        "**Respuesta:**"
      ]
    },
    {
      "cell_type": "markdown",
      "metadata": {
        "id": "l3z1zxGHiblC"
      },
      "source": [
        "-------"
      ]
    },
    {
      "cell_type": "markdown",
      "metadata": {
        "tags": [
          "10_min"
        ],
        "id": "_-IhWH1ziblJ"
      },
      "source": [
        "### Ejercicio:\n",
        "\n",
        "Utilice la función `train_test_split` del paquete `sklearn` para seleccionar aleatoriamente el 75% de la muestra en nuestro conjunto de datos y entrene un árbol de decisión en estas muestras con la covariable `annual_inc`. Evalúe la precisión del árbol en el conjunto de entrenamiento y en las muestras que no están incluidas en el conjunto de entrenamiento. ¿Observa un cambio significativo en la puntuación de precisión?"
      ]
    },
    {
      "cell_type": "markdown",
      "metadata": {
        "tags": [
          "ans_st"
        ],
        "id": "hpwkZS_FiblJ"
      },
      "source": [
        "**Respuesta:**"
      ]
    },
    {
      "cell_type": "markdown",
      "metadata": {
        "id": "l_IaunTBiblJ"
      },
      "source": [
        "-------"
      ]
    },
    {
      "cell_type": "markdown",
      "metadata": {
        "tags": [
          "5_min"
        ],
        "id": "U2KDB60NiblJ"
      },
      "source": [
        "### Ejercicio:\n",
        "\n",
        "Grafique la región de clasificación de un árbol de decisión utilizando las variables `annual_inc` y `loan_amnt`. Observe cómo la frontera de decisión puede ser altamente no lineal y a menudo se asemeja a parches, dado que el árbol dicotomiza el conjunto de datos en múltiples niveles. Analice cómo estas regiones de clasificación reflejan las predicciones del modelo para diferentes combinaciones de `annual_inc` y `loan_amnt`. Guarde su modelo como `dt_model`\n",
        "\n",
        "**Agregar esta linea al final de su respuesta:\n",
        "joblib.dump(dt_model, 'dt_model.pkl')**\n",
        "\n",
        "**Respuesta:**"
      ]
    },
    {
      "cell_type": "markdown",
      "metadata": {
        "tags": [
          "15_min"
        ],
        "id": "n4O9XZljiblJ"
      },
      "source": [
        "### Ejercicio:\n",
        "\n",
        "Ajuste un clasificador de bosque aleatorio utilizando las covariables `term` y `annual_inc`. Genere la curva ROC utilizando los datos de entrenamiento y grafique la región predicha. Analice cómo el uso de múltiples árboles de decisión en un bosque aleatorio ayuda a mejorar el rendimiento y a reducir el problema del sobreajuste en comparación con un solo árbol de decisión. Guarde su modelo como `rf_model`\n",
        "\n",
        "**Respuesta:**"
      ]
    },
    {
      "cell_type": "markdown",
      "metadata": {
        "tags": [
          "10_min"
        ],
        "id": "w6Mg6sHEiblJ"
      },
      "source": [
        "\n",
        "### Ejercicio:\n",
        "\n",
        "Compare el modelo de árboles de decisión y el de bosque aleatorio generando sus curvas ROC mediante validación cruzada de 5 pliegues. Utilice las covariables `term` y `annual_inc`. ¿Se observa un aumento significativo en el rendimiento de predicción del modelo de bosque aleatorio en comparación con el modelo de árbol de decisión?"
      ]
    },
    {
      "cell_type": "markdown",
      "metadata": {
        "tags": [
          "ans_st"
        ],
        "id": "KCSKhvrHiblK"
      },
      "source": [
        "**Respuesta:**"
      ]
    },
    {
      "cell_type": "markdown",
      "source": [
        "### Ejercicio:\n",
        "\n",
        "Implemente un modelo de **XGBoost** y otro de **LightGBM** utilizando todas las covariables del DataFrame `df_log`, entrene el modelo de **LightGBM** y determine si el modelo **LightGBM** está sobreajustado o no.\n",
        "\n",
        "Guarde sus modelos como: **XGBoost**: `xgb_model` y **LightGBM**: `lgbm_model`\n",
        "\n",
        "Estos nombres son cortos, descriptivos y reflejan el tipo de modelo que los estudiantes están entrenando. Usar esta convención facilitará el proceso de evaluación automática. ¿Te gustaría ajustar algún nombre?\n",
        "\n",
        "**Agregar esta linea al final de cada modelo:\n",
        "joblib.dump(xgb_model, 'lgbm_model.pkl')**\n",
        "\n",
        "**Respuesta:**"
      ],
      "metadata": {
        "id": "4nMOt4x2T_Rx"
      }
    },
    {
      "cell_type": "markdown",
      "source": [
        "\n",
        "\n",
        "### Ejercicio: Conclusiones\n",
        "\n",
        "Redacte un breve informe de conclusiones basado en los resultados obtenidos de los ejercicios anteriores. Discuta cuál modelo parece ser el más efectivo para predecir el estado de incumplimiento, qué factores influyeron en su elección y si hay alguna mejora que se podría implementar en futuros análisis. Considere también las implicaciones de los resultados en el contexto del negocio.\n",
        "\n",
        "**Respuesta**"
      ],
      "metadata": {
        "id": "RCN5FZLvXm5a"
      }
    },
    {
      "cell_type": "markdown",
      "source": [],
      "metadata": {
        "id": "_PMCg47NNxF9"
      }
    },
    {
      "cell_type": "markdown",
      "metadata": {
        "id": "nXQmRZGBiblK"
      },
      "source": [
        "-------"
      ]
    },
    {
      "cell_type": "markdown",
      "source": [
        "### Conclusión adicional ¿Cuál utilizar?\n",
        "\n",
        "Al decidir qué modelo emplear para predecir el estado de incumplimiento, es fundamental considerar el rendimiento de predicción, como el AUC. Es importante evaluar las características de cada modelo para elegir el más adecuado.\n",
        "\n",
        "Existen varios factores a tener en cuenta al seleccionar entre los modelos:\n",
        "\n",
        "1. **Propósito del análisis:** Si se busca un clasificador rápido y sencillo, los bosques aleatorios suelen funcionar bien con su configuración predeterminada. También es importante considerar si los datos presentan patrones claros que se puedan utilizar eficazmente en el modelo.\n",
        "\n",
        "2. **Número de puntos de datos:** En un contexto de grandes datos, es común trabajar con conjuntos que tienen muchas muestras. La regresión logística puede volverse lenta a medida que aumenta la cantidad de datos, y los bosques aleatorios también requieren más tiempo para entrenarse con grandes conjuntos.\n",
        "\n",
        "3. **Número de covariables:** A medida que aumenta el número de covariables, la carga computacional de la regresión logística y los bosques aleatorios crece rápidamente. Esto puede hacer que el entrenamiento sea más costoso en términos de tiempo y recursos.\n",
        "\n",
        "Si se anticipa un aumento en la cantidad de datos a procesar, se pueden presentar desafíos adicionales. Con más datos, los clasificadores más complejos, como la regresión logística y el bosque aleatorio, se beneficiarían, aunque también podrían enfrentar problemas de tiempo de computación durante el entrenamiento. En tales situaciones, podría ser necesario optar por muestrear y utilizar bosques aleatorios o clasificación logística en el conjunto completo.\n",
        "\n",
        "Además, el rendimiento de los modelos puede depender de los parámetros elegidos. Por lo tanto, es crucial no solo seleccionar un clasificador, sino también ajustar los parámetros adecuados. Aumentar la profundidad de los árboles en un bosque aleatorio, por ejemplo, puede aumentar el tiempo de entrenamiento sin garantizar mejoras en los resultados.\n",
        "\n",
        "En resumen, la elección de un clasificador no es una decisión sencilla, pero estas pautas ofrecen un buen punto de partida."
      ],
      "metadata": {
        "id": "rTjRB_OX4IcR"
      }
    },
    {
      "cell_type": "code",
      "source": [
        "# @title\n",
        "#NO_MODIFICAR_ESTE_CODIGO\n",
        "# Cargar y evaluar los modelos guardados\n",
        "import joblib\n",
        "from sklearn.metrics import roc_auc_score\n",
        "\n",
        "# Cargar los modelos\n",
        "rl_model = joblib.load('rl_model.pkl')\n",
        "dt_model = joblib.load('dt_model.pkl')\n",
        "rf_model = joblib.load('rf_model.pkl')\n",
        "xgb_model = joblib.load('xgb_model.pkl')\n",
        "lgbm_model = joblib.load('lgbm_model.pkl')\n",
        "\n",
        "# Evaluar los modelos\n",
        "models = {\n",
        "    \"Regresión Logística\": rl_model,\n",
        "    \"Árbol de Decisión\": dt_model,\n",
        "    \"Random Forest\": rf_model,\n",
        "    \"XGBoost\": xgb_model,\n",
        "    \"LightGBM\": lgbm_model\n",
        "}\n",
        "\n",
        "# Evaluar el AUC para cada modelo\n",
        "for model_name, model in models.items():\n",
        "    y_pred = model.predict_proba(X_test)[:, 1]  # Usar probabilidades de clase positiva\n",
        "    auc = roc_auc_score(y_test, y_pred)\n",
        "    print(f\"AUC para {model_name}: {auc}\")\n"
      ],
      "metadata": {
        "cellView": "form",
        "id": "RQn1uuPlOr6v"
      },
      "execution_count": null,
      "outputs": []
    }
  ],
  "metadata": {
    "c1_recart": "7.28.0-57c20131aabc1dc2a8c675852d80a7da",
    "colab": {
      "provenance": []
    },
    "language_info": {
      "name": "python"
    },
    "kernelspec": {
      "name": "python3",
      "display_name": "Python 3"
    }
  },
  "nbformat": 4,
  "nbformat_minor": 0
}